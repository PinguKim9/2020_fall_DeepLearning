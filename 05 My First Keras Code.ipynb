{
 "cells": [
  {
   "cell_type": "markdown",
   "metadata": {},
   "source": [
    "# MNIST "
   ]
  },
  {
   "cell_type": "markdown",
   "metadata": {},
   "source": [
    "## basic code (keras 사용 X)"
   ]
  },
  {
   "cell_type": "code",
   "execution_count": 1,
   "metadata": {},
   "outputs": [
    {
     "name": "stdout",
     "output_type": "stream",
     "text": [
      "<class 'tuple'>\n"
     ]
    }
   ],
   "source": [
    "import tensorflow as tf\n",
    "import numpy as np\n",
    "a = tf.keras.datasets.mnist.load_data()\n",
    "print(type(a))"
   ]
  },
  {
   "cell_type": "code",
   "execution_count": 2,
   "metadata": {},
   "outputs": [
    {
     "name": "stdout",
     "output_type": "stream",
     "text": [
      "<class 'tuple'>\n",
      "<class 'tuple'>\n"
     ]
    }
   ],
   "source": [
    "#mnist data를 좀 더 파헤쳐보자\n",
    "for i in a :\n",
    "    print(type(i))"
   ]
  },
  {
   "cell_type": "markdown",
   "metadata": {},
   "source": [
    "tuple 2개로 되어있으니까 조금 더 나눠서 살펴보자"
   ]
  },
  {
   "cell_type": "code",
   "execution_count": 3,
   "metadata": {},
   "outputs": [],
   "source": [
    "#data set을 unpacking 해서 받기\n",
    "a, b = tf.keras.datasets.mnist.load_data()"
   ]
  },
  {
   "cell_type": "code",
   "execution_count": 4,
   "metadata": {},
   "outputs": [
    {
     "name": "stdout",
     "output_type": "stream",
     "text": [
      "<class 'numpy.ndarray'>\n",
      "<class 'numpy.ndarray'>\n",
      "<class 'numpy.ndarray'>\n",
      "<class 'numpy.ndarray'>\n"
     ]
    }
   ],
   "source": [
    "for i in a :\n",
    "    print(type(i))\n",
    "for i in b :\n",
    "    print(type(i))"
   ]
  },
  {
   "cell_type": "markdown",
   "metadata": {},
   "source": [
    "2개의 tuple 각각이 numpy array 2개로 이루어져 있다."
   ]
  },
  {
   "cell_type": "code",
   "execution_count": 5,
   "metadata": {},
   "outputs": [],
   "source": [
    "#data set을 좀 더 나눠서 받기\n",
    "(a, b), (c, d) = tf.keras.datasets.mnist.load_data()"
   ]
  },
  {
   "cell_type": "code",
   "execution_count": 6,
   "metadata": {},
   "outputs": [],
   "source": [
    "x_train = a\n",
    "y_train = b\n",
    "\n",
    "x_test = c\n",
    "y_test = d"
   ]
  },
  {
   "cell_type": "code",
   "execution_count": 7,
   "metadata": {},
   "outputs": [
    {
     "name": "stdout",
     "output_type": "stream",
     "text": [
      "(60000, 28, 28) (60000,) (10000, 28, 28) (10000,)\n"
     ]
    }
   ],
   "source": [
    "print(x_train.shape, y_train.shape, x_test.shape, y_test.shape)"
   ]
  },
  {
   "cell_type": "markdown",
   "metadata": {},
   "source": [
    "train set은 60000장씩, test set은 10000장씩 있다.\n",
    "\n",
    "train set 각각은 28*28"
   ]
  },
  {
   "cell_type": "code",
   "execution_count": 8,
   "metadata": {
    "scrolled": true
   },
   "outputs": [
    {
     "name": "stdout",
     "output_type": "stream",
     "text": [
      "255 9 255 9\n",
      "0 0 0 0\n"
     ]
    }
   ],
   "source": [
    "print(x_train.max(), y_train.max(), x_test.max(), y_test.max())\n",
    "print(x_train.min(), y_train.min(), x_test.min(), y_test.min())"
   ]
  },
  {
   "cell_type": "code",
   "execution_count": 9,
   "metadata": {},
   "outputs": [],
   "source": [
    "#x를 reshape(0하고 1사이 숫자로 만들고 싶어!).\n",
    "x_train = a.reshape( (-1, 784) ).astype(np.float32) / 255  \n",
    "x_test = c.reshape( (-1, 784) ).astype(np.float32) / 255\n",
    "\n",
    "#y도 엄밀하게 다시 정의해주자.\n",
    "y_train = y_train.astype(np.int32)\n",
    "y_test = y_test.astype(np.int32)"
   ]
  },
  {
   "cell_type": "code",
   "execution_count": 10,
   "metadata": {},
   "outputs": [
    {
     "data": {
      "text/plain": [
       "<function matplotlib.pyplot.show(*args, **kw)>"
      ]
     },
     "execution_count": 10,
     "metadata": {},
     "output_type": "execute_result"
    },
    {
     "data": {
      "image/png": "[encoded data removed]",
      "text/plain": [
       "<Figure size 432x288 with 1 Axes>"
      ]
     },
     "metadata": {
      "needs_background": "light"
     },
     "output_type": "display_data"
    }
   ],
   "source": [
    "%matplotlib inline\n",
    "import matplotlib.pyplot as plt\n",
    "plt.imshow(x_train[0].reshape((28, 28)), cmap = plt.cm.binary)\n",
    "plt.axis('off')\n",
    "plt.title('Label {}'.format(y_train[0]))\n",
    "plt.show"
   ]
  },
  {
   "cell_type": "code",
   "execution_count": 11,
   "metadata": {
    "scrolled": true
   },
   "outputs": [
    {
     "data": {
      "image/png": "[encoded data removed]",
      "text/plain": [
       "<Figure size 432x288 with 10 Axes>"
      ]
     },
     "metadata": {
      "needs_background": "light"
     },
     "output_type": "display_data"
    }
   ],
   "source": [
    "fig, axes = plt.subplots(2, 5) #axes object가 numpy. \n",
    "#shape을 보면 (1, 10)이 아닌 (10,)이 나온다. 반대일 경우에도 동일.\n",
    "#but 1이 아니라 다른 숫자가 들어가면 그대로 나온다.\n",
    "\n",
    "# 그림 그리기\n",
    "for i in range(2) :\n",
    "    for j in range(5) :\n",
    "        idx = i*5 + j\n",
    "        img = x_train[idx].reshape((28, 28))\n",
    "        lbl = y_train[idx]\n",
    "        axes[i, j].imshow(img, cmap=plt.cm.binary)\n",
    "        axes.ravel()[idx].set_axis_off()\n",
    "plt.tight_layout()\n",
    "plt.show()"
   ]
  },
  {
   "cell_type": "code",
   "execution_count": 12,
   "metadata": {},
   "outputs": [],
   "source": [
    "epochs = 5\n",
    "batch_size = 128\n",
    "lr = 1e-3"
   ]
  },
  {
   "cell_type": "code",
   "execution_count": 13,
   "metadata": {},
   "outputs": [],
   "source": [
    "tf.reset_default_graph()"
   ]
  },
  {
   "cell_type": "code",
   "execution_count": 14,
   "metadata": {},
   "outputs": [
    {
     "name": "stdout",
     "output_type": "stream",
     "text": [
      "WARNING:tensorflow:From C:\\Users\\sarah\\Anaconda3\\lib\\site-packages\\tensorflow\\python\\training\\rmsprop.py:119: calling Ones.__init__ (from tensorflow.python.ops.init_ops) with dtype is deprecated and will be removed in a future version.\n",
      "Instructions for updating:\n",
      "Call initializer instance with the dtype argument instead of passing it to the constructor\n"
     ]
    }
   ],
   "source": [
    "#################여기부터\n",
    "\n",
    "x = tf.placeholder(tf.float32, (None,784)) \n",
    "y = tf.placeholder(tf.int32, (None,)) \n",
    "\n",
    "init_b = tf.keras.initializers.constant(0.0)\n",
    "init_w = tf.keras.initializers.VarianceScaling(mode='fan_avg')\n",
    "\n",
    "#graph의 가장 핵심되는 부분!\n",
    "b1 = tf.get_variable('b1', (512,), tf.float32, init_b)\n",
    "w1 = tf.get_variable('w1', (784,512), tf.float32, init_w)\n",
    "\n",
    "b2 = tf.get_variable('b2', (10,), tf.float32, init_b)\n",
    "w2 = tf.get_variable('w2', (512,10), tf.float32, init_w)\n",
    "\n",
    "x1 = tf.nn.relu(x @ w1 + b1) \n",
    "logits = x1 @ w2 + b2 \n",
    "\n",
    "entropy = tf.nn.sparse_softmax_cross_entropy_with_logits(labels=y, logits=logits) \n",
    "loss = tf.reduce_mean(entropy) \n",
    "train = tf.train.RMSPropOptimizer(lr).minimize(loss)"
   ]
  },
  {
   "cell_type": "code",
   "execution_count": 15,
   "metadata": {},
   "outputs": [
    {
     "name": "stdout",
     "output_type": "stream",
     "text": [
      "Tensor(\"SparseSoftmaxCrossEntropyWithLogits/SparseSoftmaxCrossEntropyWithLogits:0\", shape=(?,), dtype=float32)\n"
     ]
    }
   ],
   "source": [
    "print(entropy)"
   ]
  },
  {
   "cell_type": "code",
   "execution_count": 16,
   "metadata": {},
   "outputs": [
    {
     "name": "stdout",
     "output_type": "stream",
     "text": [
      "Tensor(\"ArgMax_1:0\", shape=(?,), dtype=int64)\n"
     ]
    }
   ],
   "source": [
    "#prediction이 어떻게 될 것인가.\n",
    "y_pred = tf.cast(tf.argmax(logits, axis=1), tf.int32, name='y_pred_cls') \n",
    "\n",
    "######여기까지가 main graph. 대부분 여기까지에서 shape 때문에 error가 난다.\n",
    "\n",
    "print(tf.argmax(logits, axis =1))"
   ]
  },
  {
   "cell_type": "markdown",
   "metadata": {},
   "source": [
    "in64여서 위 코드에서 int32로 바꿔줌!"
   ]
  },
  {
   "cell_type": "code",
   "execution_count": 17,
   "metadata": {},
   "outputs": [],
   "source": [
    "correct = tf.nn.in_top_k(logits, y, 1)\n",
    "accuracy = tf.reduce_mean(tf.cast(correct, tf.float32))\n",
    "\n",
    "init = tf.global_variables_initializer()\n",
    "\n",
    "###########################여기까지가 graph 전부라고 생각하면 됨."
   ]
  },
  {
   "cell_type": "code",
   "execution_count": 18,
   "metadata": {},
   "outputs": [],
   "source": [
    "def shuffle_batch(x, y, batch_size):\n",
    "    rnd_idx = np.random.permutation(len(x))\n",
    "    n_batches = len(x) // batch_size\n",
    "    for batch_idx in np.array_split(rnd_idx, n_batches): #60000장을 128개씩 나눠서 하는데 예쁘게 안 떨어져서 쓰는 코드...\n",
    "        yield x[batch_idx], y[batch_idx]"
   ]
  },
  {
   "cell_type": "code",
   "execution_count": 19,
   "metadata": {},
   "outputs": [
    {
     "name": "stdout",
     "output_type": "stream",
     "text": [
      "[0 1 2]\n",
      "[3 4 5]\n",
      "[6 7]\n",
      "[8 9]\n"
     ]
    }
   ],
   "source": [
    "#np.array_split : 최대한 균등하게 나눠주는 것\n",
    "for i in np.array_split(np.arange(10), 4) :\n",
    "    print(i)"
   ]
  },
  {
   "cell_type": "code",
   "execution_count": 20,
   "metadata": {},
   "outputs": [
    {
     "name": "stdout",
     "output_type": "stream",
     "text": [
      "\n",
      "epoch 0/5 \n",
      "epoch 1/5 \n",
      "epoch 2/5 \n",
      "epoch 3/5 \n",
      "epoch 4/5 "
     ]
    }
   ],
   "source": [
    "with tf.Session() as sess:\n",
    "    sess.run(init)\n",
    "    #saver.restore(sess, 'save/nn.ckpt')\n",
    "    \n",
    "    loss_trace = []\n",
    "    accuracy_trace = []\n",
    "\n",
    "    for i in range(epochs):\n",
    "        print()\n",
    "        print('epoch {}/{}'.format(i, epochs), end=' ')\n",
    "        for x_batch, y_batch in shuffle_batch(x_train, y_train, batch_size):\n",
    "            feed_dict = {x: x_batch, y: y_batch}\n",
    "            loss_run, accuracy_run, _ = sess.run([loss, accuracy, train], feed_dict=feed_dict)\n",
    "            loss_trace.append(loss_run)\n",
    "            accuracy_trace.append(accuracy_run)\n",
    "\n",
    "    feed_dict = {x: x_test, y: y_test}\n",
    "    accuracy_run, y_test_pred = sess.run([accuracy, y_pred], feed_dict=feed_dict)"
   ]
  },
  {
   "cell_type": "code",
   "execution_count": 21,
   "metadata": {},
   "outputs": [
    {
     "data": {
      "image/png": "[encoded data removed]",
      "text/plain": [
       "<Figure size 432x288 with 2 Axes>"
      ]
     },
     "metadata": {
      "needs_background": "light"
     },
     "output_type": "display_data"
    }
   ],
   "source": [
    "%matplotlib inline\n",
    "import matplotlib.pyplot as plt\n",
    "fig, (ax1, ax2) = plt.subplots(1, 2)\n",
    "ax1.plot(loss_trace)\n",
    "ax2.plot(accuracy_trace)\n",
    "ax1.set_title('loss')\n",
    "ax2.set_title('accuracy')\n",
    "ax1.set_xlabel('grad_step')\n",
    "ax2.set_xlabel('grad_step')\n",
    "plt.tight_layout()\n",
    "plt.show()"
   ]
  },
  {
   "cell_type": "code",
   "execution_count": 22,
   "metadata": {},
   "outputs": [
    {
     "name": "stdout",
     "output_type": "stream",
     "text": [
      "Test Accuracy : 0.9808\n"
     ]
    }
   ],
   "source": [
    "print('Test Accuracy :', accuracy_run)"
   ]
  },
  {
   "cell_type": "code",
   "execution_count": 23,
   "metadata": {},
   "outputs": [
    {
     "name": "stdout",
     "output_type": "stream",
     "text": [
      "[[ 970    1    0    1    0    2    3    1    1    1]\n",
      " [   0 1128    2    0    0    1    2    0    2    0]\n",
      " [   4    4 1005    2    1    0    2   10    4    0]\n",
      " [   0    0    8  992    0    1    0    7    1    1]\n",
      " [   1    0    2    0  961    0    3    3    0   12]\n",
      " [   2    0    0    6    1  877    4    0    1    1]\n",
      " [   5    3    0    1    4    3  941    0    1    0]\n",
      " [   1    3    6    1    0    0    0 1014    1    2]\n",
      " [   2    0    4    7    4    6    1    8  937    5]\n",
      " [   3    3    0    5    6    1    0    7    1  983]]\n"
     ]
    }
   ],
   "source": [
    "from sklearn.metrics import confusion_matrix \n",
    "cm = confusion_matrix(y_true=y_test, y_pred=y_test_pred)\n",
    "print(cm)"
   ]
  },
  {
   "cell_type": "code",
   "execution_count": 24,
   "metadata": {},
   "outputs": [
    {
     "data": {
      "image/png": "[encoded data removed]",
      "text/plain": [
       "<Figure size 720x216 with 20 Axes>"
      ]
     },
     "metadata": {
      "needs_background": "light"
     },
     "output_type": "display_data"
    }
   ],
   "source": [
    "#틀린 것들 살펴보자\n",
    "fig, axes = plt.subplots(2, 10, figsize=(10,3))\n",
    "idx = 0\n",
    "\n",
    "#reshape 중요!!!\n",
    "for ax in axes.reshape((-1,)):\n",
    "    while True:\n",
    "        if y_test[idx]==y_test_pred[idx]:\n",
    "            idx += 1\n",
    "        else:\n",
    "            ax.imshow(x_test[idx].reshape((28,28)), cmap=plt.cm.gray)\n",
    "            ax.set_title('True: {}\\nPred: {}'.format(y_test[idx], y_test_pred[idx])) \n",
    "            ax.axis('off')\n",
    "            idx += 1\n",
    "            break\n",
    "plt.tight_layout()\n",
    "plt.show()"
   ]
  },
  {
   "cell_type": "markdown",
   "metadata": {},
   "source": [
    "## keras code 사용"
   ]
  },
  {
   "cell_type": "code",
   "execution_count": 25,
   "metadata": {},
   "outputs": [
    {
     "name": "stderr",
     "output_type": "stream",
     "text": [
      "Using TensorFlow backend.\n"
     ]
    }
   ],
   "source": [
    "from keras.utils import to_categorical\n",
    "y_train_labels = to_categorical(y_train) #one_hot_encoding이 되어있나 봄.\n",
    "y_test_labels = to_categorical(y_test)"
   ]
  },
  {
   "cell_type": "code",
   "execution_count": 26,
   "metadata": {},
   "outputs": [],
   "source": [
    "tf.reset_default_graph()"
   ]
  },
  {
   "cell_type": "code",
   "execution_count": 27,
   "metadata": {},
   "outputs": [],
   "source": [
    "from keras import models\n",
    "from keras import layers\n",
    "\n",
    "###이 부분에서 error 많이 발생\n",
    "nn = models.Sequential()\n",
    "nn.add(layers.Dense(512, activation='relu', input_shape=(28 * 28,)))\n",
    "nn.add(layers.Dense(10, activation='softmax'))\n",
    "########################\n",
    "#basic code에 비해 짧고 간단하다!\n",
    "\n",
    "#training part. 여기는 basic이 더 낫대\n",
    "#compile!\n",
    "nn.compile(optimizer='rmsprop',\n",
    "                loss='categorical_crossentropy',\n",
    "                metrics=['accuracy'])"
   ]
  },
  {
   "cell_type": "code",
   "execution_count": 28,
   "metadata": {
    "scrolled": true
   },
   "outputs": [
    {
     "name": "stdout",
     "output_type": "stream",
     "text": [
      "WARNING:tensorflow:From C:\\Users\\sarah\\Anaconda3\\lib\\site-packages\\keras\\backend\\tensorflow_backend.py:422: The name tf.global_variables is deprecated. Please use tf.compat.v1.global_variables instead.\n",
      "\n",
      "Epoch 1/5\n",
      "60000/60000 [==============================] - 4s 65us/step - loss: 0.2582 - accuracy: 0.9241\n",
      "Epoch 2/5\n",
      "60000/60000 [==============================] - 4s 64us/step - loss: 0.1034 - accuracy: 0.9701\n",
      "Epoch 3/5\n",
      "60000/60000 [==============================] - 4s 63us/step - loss: 0.0699 - accuracy: 0.9783\n",
      "Epoch 4/5\n",
      "60000/60000 [==============================] - 4s 70us/step - loss: 0.0505 - accuracy: 0.9846\n",
      "Epoch 5/5\n",
      "60000/60000 [==============================] - 4s 65us/step - loss: 0.0382 - accuracy: 0.9886\n"
     ]
    },
    {
     "data": {
      "text/plain": [
       "<keras.callbacks.callbacks.History at 0x2ddd9dacf28>"
      ]
     },
     "execution_count": 28,
     "metadata": {},
     "output_type": "execute_result"
    }
   ],
   "source": [
    "nn.fit(x_train, y_train_labels, epochs=epochs, batch_size=batch_size) #default lr 사용\n",
    "#lr을 바꾸려면 어떻게 해야할까???"
   ]
  },
  {
   "cell_type": "code",
   "execution_count": 29,
   "metadata": {},
   "outputs": [
    {
     "name": "stdout",
     "output_type": "stream",
     "text": [
      "10000/10000 [==============================] - 0s 40us/step\n",
      "test_acc: 0.9787999987602234\n"
     ]
    }
   ],
   "source": [
    "test_loss, test_acc = nn.evaluate(x_test, y_test_labels)\n",
    "print('test_acc:', test_acc)"
   ]
  },
  {
   "cell_type": "code",
   "execution_count": 30,
   "metadata": {},
   "outputs": [
    {
     "name": "stdout",
     "output_type": "stream",
     "text": [
      "Model: \"sequential_1\"\n",
      "_________________________________________________________________\n",
      "Layer (type)                 Output Shape              Param #   \n",
      "=================================================================\n",
      "dense_1 (Dense)              (None, 512)               401920    \n",
      "_________________________________________________________________\n",
      "dense_2 (Dense)              (None, 10)                5130      \n",
      "=================================================================\n",
      "Total params: 407,050\n",
      "Trainable params: 407,050\n",
      "Non-trainable params: 0\n",
      "_________________________________________________________________\n"
     ]
    }
   ],
   "source": [
    "nn.summary()"
   ]
  },
  {
   "cell_type": "markdown",
   "metadata": {},
   "source": [
    "## mix code"
   ]
  },
  {
   "cell_type": "code",
   "execution_count": 31,
   "metadata": {},
   "outputs": [],
   "source": [
    "tf.reset_default_graph()"
   ]
  },
  {
   "cell_type": "code",
   "execution_count": 32,
   "metadata": {},
   "outputs": [],
   "source": [
    "##### keras code\n",
    "from keras import models\n",
    "from keras import layers\n",
    "nn = models.Sequential()\n",
    "nn.add(layers.Dense(512, activation='relu', input_shape=(28 * 28,)))\n",
    "nn.add(layers.Dense(10, activation=None)) #굳이 softmax 할 필요 없어서 None으로 해 놓음.\n",
    "\n",
    "x = nn.input\n",
    "logits = nn.output\n",
    "\n",
    "###### basic code\n",
    "y_pred = tf.cast(tf.argmax(logits, axis=1), tf.int32, name='y_pred_cls') \n",
    "\n",
    "y = tf.placeholder(tf.int32, (None,)) \n",
    "entropy = tf.nn.sparse_softmax_cross_entropy_with_logits(labels=y, logits=logits) \n",
    "loss = tf.reduce_mean(entropy) \n",
    "train = tf.train.RMSPropOptimizer(lr).minimize(loss)\n",
    "\n",
    "correct = tf.nn.in_top_k(logits, y, 1)\n",
    "accuracy = tf.reduce_mean(tf.cast(correct, tf.float32))\n",
    "\n",
    "init = tf.global_variables_initializer()"
   ]
  },
  {
   "cell_type": "code",
   "execution_count": 34,
   "metadata": {},
   "outputs": [
    {
     "name": "stdout",
     "output_type": "stream",
     "text": [
      "\n",
      "epoch 0/5 \n",
      "epoch 1/5 \n",
      "epoch 2/5 \n",
      "epoch 3/5 \n",
      "epoch 4/5 "
     ]
    }
   ],
   "source": [
    "with tf.Session() as sess:\n",
    "    init.run()\n",
    "    \n",
    "    loss_trace = []\n",
    "    accuracy_trace = []\n",
    "\n",
    "    for i in range(epochs):\n",
    "        print()\n",
    "        print('epoch {}/{}'.format(i, epochs), end=' ')\n",
    "        for x_batch, y_batch in shuffle_batch(x_train, y_train, batch_size):\n",
    "            feed_dict = {x: x_batch, y: y_batch}\n",
    "            loss_run, accuracy_run, _ = sess.run([loss, accuracy, train], feed_dict=feed_dict)\n",
    "            loss_trace.append(loss_run)\n",
    "            accuracy_trace.append(accuracy_run)\n",
    "\n",
    "    feed_dict = {x: x_test, y: y_test}\n",
    "    accuracy_run, y_test_pred = sess.run([accuracy, y_pred], feed_dict=feed_dict)"
   ]
  },
  {
   "cell_type": "code",
   "execution_count": 35,
   "metadata": {},
   "outputs": [
    {
     "data": {
      "image/png": "[encoded data removed]",
      "text/plain": [
       "<Figure size 432x288 with 2 Axes>"
      ]
     },
     "metadata": {
      "needs_background": "light"
     },
     "output_type": "display_data"
    }
   ],
   "source": [
    "%matplotlib inline\n",
    "import matplotlib.pyplot as plt\n",
    "fig, (ax1, ax2) = plt.subplots(1, 2)\n",
    "ax1.plot(loss_trace)\n",
    "ax2.plot(accuracy_trace)\n",
    "ax1.set_title('loss')\n",
    "ax2.set_title('accuracy')\n",
    "ax1.set_xlabel('grad_step')\n",
    "ax2.set_xlabel('grad_step')\n",
    "plt.tight_layout()\n",
    "plt.show()"
   ]
  },
  {
   "cell_type": "markdown",
   "metadata": {},
   "source": [
    "### kernel이랑 bias는 어떻게 initialize 되었을까?"
   ]
  },
  {
   "cell_type": "markdown",
   "metadata": {},
   "source": [
    "아마도 kernel은 random uniform으로... bias는 0으로 보통 initialize한다고 함.\n",
    "\n",
    "initializer를 바꾸고 싶으면 어떻게 해야할까?"
   ]
  },
  {
   "cell_type": "code",
   "execution_count": 36,
   "metadata": {},
   "outputs": [],
   "source": [
    "g = tf.get_default_graph()"
   ]
  },
  {
   "cell_type": "code",
   "execution_count": 39,
   "metadata": {},
   "outputs": [
    {
     "name": "stdout",
     "output_type": "stream",
     "text": [
      "dense_1_input:0\n",
      "dense_1/random_uniform/shape:0\n",
      "dense_1/random_uniform/min:0\n",
      "dense_1/random_uniform/max:0\n",
      "dense_1/random_uniform/RandomUniform:0\n",
      "dense_1/random_uniform/sub:0\n",
      "dense_1/random_uniform/mul:0\n",
      "dense_1/random_uniform:0\n",
      "dense_1/kernel:0\n",
      "dense_1/kernel/IsInitialized/VarIsInitializedOp:0\n",
      "dense_1/kernel/Read/ReadVariableOp:0\n",
      "dense_1/Const:0\n",
      "dense_1/bias:0\n",
      "dense_1/bias/IsInitialized/VarIsInitializedOp:0\n",
      "dense_1/bias/Read/ReadVariableOp:0\n",
      "dense_1/MatMul/ReadVariableOp:0\n",
      "dense_1/MatMul:0\n",
      "dense_1/BiasAdd/ReadVariableOp:0\n",
      "dense_1/BiasAdd:0\n",
      "dense_1/Relu:0\n",
      "dense_2/random_uniform/shape:0\n",
      "dense_2/random_uniform/min:0\n",
      "dense_2/random_uniform/max:0\n",
      "dense_2/random_uniform/RandomUniform:0\n",
      "dense_2/random_uniform/sub:0\n",
      "dense_2/random_uniform/mul:0\n",
      "dense_2/random_uniform:0\n",
      "dense_2/kernel:0\n",
      "dense_2/kernel/IsInitialized/VarIsInitializedOp:0\n",
      "dense_2/kernel/Read/ReadVariableOp:0\n",
      "dense_2/Const:0\n",
      "dense_2/bias:0\n",
      "dense_2/bias/IsInitialized/VarIsInitializedOp:0\n",
      "dense_2/bias/Read/ReadVariableOp:0\n",
      "dense_2/MatMul/ReadVariableOp:0\n",
      "dense_2/MatMul:0\n",
      "dense_2/BiasAdd/ReadVariableOp:0\n",
      "dense_2/BiasAdd:0\n",
      "ArgMax/dimension:0\n",
      "ArgMax:0\n",
      "y_pred_cls:0\n",
      "Placeholder:0\n",
      "SparseSoftmaxCrossEntropyWithLogits/Shape:0\n",
      "SparseSoftmaxCrossEntropyWithLogits/SparseSoftmaxCrossEntropyWithLogits:0\n",
      "SparseSoftmaxCrossEntropyWithLogits/SparseSoftmaxCrossEntropyWithLogits:1\n",
      "Const:0\n",
      "Mean:0\n",
      "gradients/Shape:0\n",
      "gradients/grad_ys_0:0\n",
      "gradients/Fill:0\n",
      "gradients/Mean_grad/Reshape/shape:0\n",
      "gradients/Mean_grad/Reshape:0\n",
      "gradients/Mean_grad/Shape:0\n",
      "gradients/Mean_grad/Tile:0\n",
      "gradients/Mean_grad/Shape_1:0\n",
      "gradients/Mean_grad/Shape_2:0\n",
      "gradients/Mean_grad/Const:0\n",
      "gradients/Mean_grad/Prod:0\n",
      "gradients/Mean_grad/Const_1:0\n",
      "gradients/Mean_grad/Prod_1:0\n",
      "gradients/Mean_grad/Maximum/y:0\n",
      "gradients/Mean_grad/Maximum:0\n",
      "gradients/Mean_grad/floordiv:0\n",
      "gradients/Mean_grad/Cast:0\n",
      "gradients/Mean_grad/truediv:0\n",
      "gradients/zeros_like:0\n",
      "gradients/SparseSoftmaxCrossEntropyWithLogits/SparseSoftmaxCrossEntropyWithLogits_grad/PreventGradient:0\n",
      "gradients/SparseSoftmaxCrossEntropyWithLogits/SparseSoftmaxCrossEntropyWithLogits_grad/ExpandDims/dim:0\n",
      "gradients/SparseSoftmaxCrossEntropyWithLogits/SparseSoftmaxCrossEntropyWithLogits_grad/ExpandDims:0\n",
      "gradients/SparseSoftmaxCrossEntropyWithLogits/SparseSoftmaxCrossEntropyWithLogits_grad/mul:0\n",
      "gradients/dense_2/BiasAdd_grad/BiasAddGrad:0\n",
      "gradients/dense_2/BiasAdd_grad/tuple/control_dependency:0\n",
      "gradients/dense_2/BiasAdd_grad/tuple/control_dependency_1:0\n",
      "gradients/dense_2/MatMul_grad/MatMul:0\n",
      "gradients/dense_2/MatMul_grad/MatMul_1:0\n",
      "gradients/dense_2/MatMul_grad/tuple/control_dependency:0\n",
      "gradients/dense_2/MatMul_grad/tuple/control_dependency_1:0\n",
      "gradients/dense_1/Relu_grad/ReluGrad:0\n",
      "gradients/dense_1/BiasAdd_grad/BiasAddGrad:0\n",
      "gradients/dense_1/BiasAdd_grad/tuple/control_dependency:0\n",
      "gradients/dense_1/BiasAdd_grad/tuple/control_dependency_1:0\n",
      "gradients/dense_1/MatMul_grad/MatMul:0\n",
      "gradients/dense_1/MatMul_grad/MatMul_1:0\n",
      "gradients/dense_1/MatMul_grad/tuple/control_dependency:0\n",
      "gradients/dense_1/MatMul_grad/tuple/control_dependency_1:0\n",
      "dense_1/kernel/RMSProp/Initializer/ones/shape_as_tensor:0\n",
      "dense_1/kernel/RMSProp/Initializer/ones/Const:0\n",
      "dense_1/kernel/RMSProp/Initializer/ones:0\n",
      "dense_1/kernel/RMSProp:0\n",
      "dense_1/kernel/RMSProp/IsInitialized/VarIsInitializedOp:0\n",
      "dense_1/kernel/RMSProp/Read/ReadVariableOp:0\n",
      "dense_1/kernel/RMSProp_1/Initializer/zeros/shape_as_tensor:0\n",
      "dense_1/kernel/RMSProp_1/Initializer/zeros/Const:0\n",
      "dense_1/kernel/RMSProp_1/Initializer/zeros:0\n",
      "dense_1/kernel/RMSProp_1:0\n",
      "dense_1/kernel/RMSProp_1/IsInitialized/VarIsInitializedOp:0\n",
      "dense_1/kernel/RMSProp_1/Read/ReadVariableOp:0\n",
      "dense_1/bias/RMSProp/Initializer/ones:0\n",
      "dense_1/bias/RMSProp:0\n",
      "dense_1/bias/RMSProp/IsInitialized/VarIsInitializedOp:0\n",
      "dense_1/bias/RMSProp/Read/ReadVariableOp:0\n",
      "dense_1/bias/RMSProp_1/Initializer/zeros:0\n",
      "dense_1/bias/RMSProp_1:0\n",
      "dense_1/bias/RMSProp_1/IsInitialized/VarIsInitializedOp:0\n",
      "dense_1/bias/RMSProp_1/Read/ReadVariableOp:0\n",
      "dense_2/kernel/RMSProp/Initializer/ones/shape_as_tensor:0\n",
      "dense_2/kernel/RMSProp/Initializer/ones/Const:0\n",
      "dense_2/kernel/RMSProp/Initializer/ones:0\n",
      "dense_2/kernel/RMSProp:0\n",
      "dense_2/kernel/RMSProp/IsInitialized/VarIsInitializedOp:0\n",
      "dense_2/kernel/RMSProp/Read/ReadVariableOp:0\n",
      "dense_2/kernel/RMSProp_1/Initializer/zeros/shape_as_tensor:0\n",
      "dense_2/kernel/RMSProp_1/Initializer/zeros/Const:0\n",
      "dense_2/kernel/RMSProp_1/Initializer/zeros:0\n",
      "dense_2/kernel/RMSProp_1:0\n",
      "dense_2/kernel/RMSProp_1/IsInitialized/VarIsInitializedOp:0\n",
      "dense_2/kernel/RMSProp_1/Read/ReadVariableOp:0\n",
      "dense_2/bias/RMSProp/Initializer/ones:0\n",
      "dense_2/bias/RMSProp:0\n",
      "dense_2/bias/RMSProp/IsInitialized/VarIsInitializedOp:0\n",
      "dense_2/bias/RMSProp/Read/ReadVariableOp:0\n",
      "dense_2/bias/RMSProp_1/Initializer/zeros:0\n",
      "dense_2/bias/RMSProp_1:0\n",
      "dense_2/bias/RMSProp_1/IsInitialized/VarIsInitializedOp:0\n",
      "dense_2/bias/RMSProp_1/Read/ReadVariableOp:0\n",
      "RMSProp/learning_rate:0\n",
      "RMSProp/decay:0\n",
      "RMSProp/momentum:0\n",
      "RMSProp/epsilon:0\n",
      "in_top_k/InTopKV2/k:0\n",
      "in_top_k/InTopKV2:0\n",
      "Cast:0\n",
      "Const_1:0\n",
      "Mean_1:0\n"
     ]
    }
   ],
   "source": [
    "for op in g.get_operations() :\n",
    "    for tensor in op.outputs :\n",
    "        print(tensor.name)"
   ]
  },
  {
   "cell_type": "code",
   "execution_count": null,
   "metadata": {},
   "outputs": [],
   "source": []
  }
 ],
 "metadata": {
  "kernelspec": {
   "display_name": "Python 3",
   "language": "python",
   "name": "python3"
  },
  "language_info": {
   "codemirror_mode": {
    "name": "ipython",
    "version": 3
   },
   "file_extension": ".py",
   "mimetype": "text/x-python",
   "name": "python",
   "nbconvert_exporter": "python",
   "pygments_lexer": "ipython3",
   "version": "3.7.3"
  }
 },
 "nbformat": 4,
 "nbformat_minor": 2
}
