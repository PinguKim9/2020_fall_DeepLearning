{
 "cells": [
  {
   "cell_type": "markdown",
   "metadata": {},
   "source": [
    "# 03 Initializer\n",
    "## 맨 땅에 이니셜라이저 코드"
   ]
  },
  {
   "cell_type": "code",
   "execution_count": 1,
   "metadata": {},
   "outputs": [
    {
     "name": "stdout",
     "output_type": "stream",
     "text": [
      "[[7. 7. 7. 7. 7.]\n",
      " [7. 7. 7. 7. 7.]\n",
      " [7. 7. 7. 7. 7.]]\n",
      "<tf.Variable 'w:0' shape=(3, 5) dtype=float32_ref>\n"
     ]
    }
   ],
   "source": [
    "import tensorflow as tf\n",
    "tf.reset_default_graph()\n",
    "\n",
    "#아래 중 한가지 골라서 시작하면 되는데, 그에 따라 밑에 코드들의 결과값도 다르게 나올 것.\n",
    "#특정 constant로 시작. 0이나 1을 집어넣어도 되지만, 밑의 코드들을 이용해도 된다!\n",
    "init_w = tf.keras.initializers.constant(7.0)\n",
    "#1로 시작\n",
    "#init_w = tf.keras.initializers.ones\n",
    "#0으로 시작\n",
    "#init_w = tf.keras.initializers.zeros\n",
    "#identity matrix로 시작. identity는 조금 복잡하게 만든다!\n",
    "#init_w = tf.keras.initializers.identity\n",
    "\n",
    "\n",
    "w = tf.get_variable('w', (3, 5), dtype=tf.float32, initializer=init_w) #(3, 5)는 shape\n",
    "\n",
    "init = tf.global_variables_initializer() #session 밖에서 정의. 이 initializer와 밑의 sess.run이 필요.\n",
    "    \n",
    "with tf.Session() as sess:\n",
    "    sess.run(init) #이게 없어도 에러 뜸\n",
    "    w_run = sess.run(w)\n",
    "print(w_run)\n",
    "print(w)"
   ]
  },
  {
   "cell_type": "code",
   "execution_count": 2,
   "metadata": {},
   "outputs": [
    {
     "name": "stdout",
     "output_type": "stream",
     "text": [
      "w/Initializer/Const\n",
      "w\n",
      "w/Assign\n",
      "w/read\n",
      "init\n"
     ]
    }
   ],
   "source": [
    "g = tf.get_default_graph()\n",
    "ops = g.get_operations()\n",
    "for op in ops :\n",
    "    print(op.name)"
   ]
  },
  {
   "cell_type": "code",
   "execution_count": 4,
   "metadata": {},
   "outputs": [
    {
     "name": "stdout",
     "output_type": "stream",
     "text": [
      "Tensor(\"w/Initializer/Const:0\", shape=(3, 5), dtype=float32)\n",
      "Tensor(\"w:0\", shape=(3, 5), dtype=float32_ref)\n",
      "Tensor(\"w/Assign:0\", shape=(3, 5), dtype=float32_ref)\n",
      "Tensor(\"w/read:0\", shape=(3, 5), dtype=float32)\n"
     ]
    }
   ],
   "source": [
    "for op in ops :\n",
    "    for tensor in op.outputs :\n",
    "        print(tensor)"
   ]
  },
  {
   "cell_type": "markdown",
   "metadata": {},
   "source": [
    "## initializer code"
   ]
  },
  {
   "cell_type": "code",
   "execution_count": 8,
   "metadata": {},
   "outputs": [
    {
     "name": "stdout",
     "output_type": "stream",
     "text": [
      "<tf.Variable 'w:0' shape=(100, 100) dtype=float32_ref>\n",
      "<class 'numpy.ndarray'>\n",
      "(100, 100)\n",
      "float32\n"
     ]
    },
    {
     "data": {
      "image/png": "[encoded data removed]",
      "text/plain": [
       "<Figure size 432x288 with 1 Axes>"
      ]
     },
     "metadata": {
      "needs_background": "light"
     },
     "output_type": "display_data"
    },
    {
     "name": "stdout",
     "output_type": "stream",
     "text": [
      "-0.0130297365 0.9953005\n"
     ]
    }
   ],
   "source": [
    "%matplotlib inline \n",
    "#python에서는 빼줘야 함. jupyther에 특화된 것. object print 방지.\n",
    "\n",
    "import tensorflow as tf; tf.reset_default_graph()\n",
    "import matplotlib.pyplot as plt\n",
    "import numpy as np #reshape을 위해 필요\n",
    "\n",
    "#Random Normal. default는 mean=0, std=0.05. seed 고정하면 같은 변수들로 돌리게 됨.\n",
    "init_w = tf.keras.initializers.RandomNormal(mean=0, stddev=1, seed=3) \n",
    "#Truncated Normal\n",
    "#init_w = tf.keras.initializers.TruncatedNormal() # mean=0, (before_truncation_)std=0.05\n",
    "#Random Uniform\n",
    "#init_w = tf.keras.initializers.RandomUniform(minval=0., maxval=1.) # minval=-0.05, maxval=0.05\n",
    "w = tf.get_variable('w', (100,100), tf.float32, init_w)\n",
    "\n",
    "init = tf.global_variables_initializer()\n",
    "\n",
    "with tf.Session() as sess:\n",
    "    sess.run(init)\n",
    "    print(w) #w자체가 tensor라서 tensor가 print \n",
    "    w_run = sess.run(w)\n",
    "    print(type(w_run)) #(100, 100)이니까 너무 커서 일단 type이나 shape 등만 print\n",
    "    print(w_run.shape) \n",
    "    print(w_run.dtype)\n",
    "    \n",
    "plt.hist(w_run.reshape((-1,)), bins=100, density=True)\n",
    "plt.show()\n",
    "print(w_run.reshape((-1,)).mean(), w_run.reshape((-1,)).std())"
   ]
  },
  {
   "cell_type": "code",
   "execution_count": null,
   "metadata": {},
   "outputs": [],
   "source": []
  }
 ],
 "metadata": {
  "kernelspec": {
   "display_name": "Python 3",
   "language": "python",
   "name": "python3"
  },
  "language_info": {
   "codemirror_mode": {
    "name": "ipython",
    "version": 3
   },
   "file_extension": ".py",
   "mimetype": "text/x-python",
   "name": "python",
   "nbconvert_exporter": "python",
   "pygments_lexer": "ipython3",
   "version": "3.7.3"
  }
 },
 "nbformat": 4,
 "nbformat_minor": 2
}
